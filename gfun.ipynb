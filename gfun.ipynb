{
 "metadata": {
  "name": "gfun"
 },
 "nbformat": 3,
 "nbformat_minor": 0,
 "worksheets": [
  {
   "cells": [
    {
     "cell_type": "code",
     "collapsed": false,
     "input": [
      "from collections import namedtuple\n",
      "\n",
      "Node, Attr, Item, Call, Cond = map(namedtuple,\n",
      "                             ['Node', 'Attr', 'Item', 'Call', 'Cond'],\n",
      "                             ['data left right', 'key', 'key', 'args kwds',\n",
      "                              'cond true false'])\n",
      "\n",
      "class Item(object):\n",
      "\n",
      "    def __init__(self, key):\n",
      "        self.key = key\n",
      "\n",
      "    def str_slice(self, sl):\n",
      "        st = \"%s:%s%s\"\n",
      "        st %= (sl.start if sl.start else '',\n",
      "               sl.stop  if sl.stop  else '',\n",
      "     ':' + str(sl.step) if sl.step  else '')\n",
      "        return st\n",
      "\n",
      "    def idxnotation(self):\n",
      "        try:\n",
      "            return ', '.join(map(self.str_slice, self.key))\n",
      "        except:\n",
      "            return str(self.key)\n",
      "\n",
      "\n",
      "class Reference(object):\n",
      "\n",
      "    def __init__(self, ref=[]):\n",
      "        \"\"\"\n",
      "        The Reference class is a unification of the attrgetter, itemgetter\n",
      "        and methodcaller functions in Python's operators module, wrapped into\n",
      "        one delicious read-only data descriptor; what to get or call is obtained\n",
      "        by overloading the relevant methods and building an internal\n",
      "        representation of the gotten thing, which can then be applied to a\n",
      "        specific object.\n",
      "\n",
      "        TODO: use b-tree to represent expressions\n",
      "\n",
      "        \"\"\"\n",
      "\n",
      "        self.ref = ref\n",
      "        self.__apply__ = eval('lambda obj: %r' % (self, ))\n",
      "\n",
      "    def __getattr__(self, key):\n",
      "        return Reference(self.ref + [Attr(key)])\n",
      "\n",
      "    def __getitem__(self, key):\n",
      "        if type(key) is slice:\n",
      "            itemref = Item((key,))\n",
      "        else:\n",
      "            itemref = Item(key)\n",
      "\n",
      "        return Reference(self.ref + [itemref])\n",
      "\n",
      "    def __call__(self, *args, **kwds):\n",
      "        return Reference(self.ref + [Call(args, kwds)])\n",
      "\n",
      "    def __repr__(self):\n",
      "        ops = {'__div__': '/', '__add__': '+', '__mul__': '*'}\n",
      "        sref = 'obj'\n",
      "        for ref in self.ref:\n",
      "            if type(ref) is Item:\n",
      "                sref += '[' + ref.idxnotation() + ']'\n",
      "            elif type(ref) is Attr:\n",
      "                sref += '.' + ref.key\n",
      "            elif type(ref) is Call:\n",
      "                sref += '('\n",
      "                sref += ', '.join(map(repr, ref.args))\n",
      "                sref += ', '.join('%s=%r' % (k, v) \n",
      "                                  for k, v in ref.kwds.items())\n",
      "                sref += ')'\n",
      "\n",
      "        return sref\n",
      "\n",
      "    @property\n",
      "    def __class__(self):\n",
      "        return Reference(self.ref + [Attr('__class__')])\n",
      "\n",
      "    def __refmethcall__(self, meth, args=(), kwds={}):\n",
      "        call = [Attr(meth), Call(args, kwds)]\n",
      "        return Reference(self.ref + call)\n",
      "\n",
      "    for meth in ['div', 'rdiv', 'add', 'radd', 'mul', 'rmul', 'sub', 'rsub']:\n",
      "        code = \"\"\"\n",
      "def __{0}__(self, arg):\n",
      "    return self.__refmethcall__('__{0}__', (arg,))\n",
      "\"\"\".format(meth)\n",
      "        exec(code)\n",
      "    \n",
      "    def __get__(self, inst, owner):\n",
      "        obj = inst if inst else owner\n",
      "        if hasattr(obj, 'nobind'):\n",
      "            return self\n",
      "\n",
      "        try:\n",
      "            return self.__apply__(obj)\n",
      "        except Exception as exc:\n",
      "            raise AttributeError('%r w/ obj=%s raised %s' % (self, obj, exc))\n",
      "\n",
      "    def __set__(self, obj, val):\n",
      "        raise AttributeError\n",
      "\n",
      "def If(cond, true, false):\n",
      "    return Reference([Cond(cond, true, false)])\n"
     ],
     "language": "python",
     "metadata": {},
     "outputs": [],
     "prompt_number": 6
    },
    {
     "cell_type": "code",
     "collapsed": false,
     "input": [
      "self = Reference()\n",
      "self.__rdiv__"
     ],
     "language": "python",
     "metadata": {},
     "outputs": [
      {
       "output_type": "pyout",
       "prompt_number": 7,
       "text": [
        "<bound method Reference.__rdiv__ of obj>"
       ]
      }
     ],
     "prompt_number": 7
    },
    {
     "cell_type": "code",
     "collapsed": false,
     "input": [
      "class Foo:\n",
      "    a, b = 3, 4\n",
      "    c = self.a + self.b"
     ],
     "language": "python",
     "metadata": {},
     "outputs": [],
     "prompt_number": 3
    },
    {
     "cell_type": "code",
     "collapsed": false,
     "input": [
      "f = Foo()"
     ],
     "language": "python",
     "metadata": {},
     "outputs": [],
     "prompt_number": 4
    },
    {
     "cell_type": "code",
     "collapsed": false,
     "input": [
      "f.c"
     ],
     "language": "python",
     "metadata": {},
     "outputs": [
      {
       "output_type": "pyout",
       "prompt_number": 5,
       "text": [
        "7"
       ]
      }
     ],
     "prompt_number": 5
    },
    {
     "cell_type": "code",
     "collapsed": false,
     "input": [],
     "language": "python",
     "metadata": {},
     "outputs": []
    }
   ],
   "metadata": {}
  }
 ]
}